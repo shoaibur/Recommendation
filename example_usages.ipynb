{
  "nbformat": 4,
  "nbformat_minor": 0,
  "metadata": {
    "colab": {
      "provenance": []
    },
    "kernelspec": {
      "name": "python3",
      "display_name": "Python 3"
    },
    "language_info": {
      "name": "python"
    }
  },
  "cells": [
    {
      "cell_type": "code",
      "source": [
        "%cd /content/drive/MyDrive/Recommendation/"
      ],
      "metadata": {
        "colab": {
          "base_uri": "https://localhost:8080/"
        },
        "id": "KaLDeKSvaGQD",
        "outputId": "e51c6ab1-ed4b-4efa-a363-5d3c0912ebf4"
      },
      "execution_count": 1,
      "outputs": [
        {
          "output_type": "stream",
          "name": "stdout",
          "text": [
            "/content/drive/MyDrive/Recommendation\n"
          ]
        }
      ]
    },
    {
      "cell_type": "code",
      "source": [
        "import json\n",
        "import pandas as pd\n",
        "import numpy as np\n",
        "import torch\n",
        "\n",
        "from sklearn.decomposition import PCA\n",
        "from sklearn.preprocessing import StandardScaler\n",
        "from sentence_transformers import SentenceTransformer, util\n",
        "\n",
        "from models.content_based_recommendation_base import SimpleContentBasedRec\n",
        "from models.content_based_recommendation_bert import ContentBasedRecommendation\n",
        "from models.matrix_factorization_based_recommendation import MatrixFactorization\n",
        "from models.deep_learning_based_recommendation import DeepLearningRec\n",
        "from models.hybrid_recommendation import HybridRecommendation"
      ],
      "metadata": {
        "id": "a7UHMe9VW75p"
      },
      "execution_count": 2,
      "outputs": []
    },
    {
      "cell_type": "markdown",
      "source": [
        "**Visualize Data**"
      ],
      "metadata": {
        "id": "VQizA6CsXp-k"
      }
    },
    {
      "cell_type": "code",
      "source": [
        "# Items Data\n",
        "with open('data/products.json', 'r') as json_file:\n",
        "    products = json.load(json_file)\n",
        "products"
      ],
      "metadata": {
        "colab": {
          "base_uri": "https://localhost:8080/"
        },
        "id": "YcjyORuVW8-U",
        "outputId": "b3665be7-1149-455a-b6d9-6d10bc85589a"
      },
      "execution_count": 3,
      "outputs": [
        {
          "output_type": "execute_result",
          "data": {
            "text/plain": [
              "{'1': {'name': 'Apple iPhone 12',\n",
              "  'description': 'Smartphone with A14 Bionic chip',\n",
              "  'category': 'Electronics'},\n",
              " '2': {'name': 'Nike Air Max',\n",
              "  'description': 'Athletic shoes with cushion support',\n",
              "  'category': 'Fashion'},\n",
              " '3': {'name': 'LEGO Star Wars',\n",
              "  'description': 'Building toy set from Star Wars series',\n",
              "  'category': 'Toys'},\n",
              " '4': {'name': 'Logitech Mouse',\n",
              "  'description': 'Wireless optical mouse',\n",
              "  'category': 'Electronics'},\n",
              " '5': {'name': \"Levi's Jeans\",\n",
              "  'description': 'Denim straight fit jeans',\n",
              "  'category': 'Fashion'},\n",
              " '6': {'name': 'Harry Potter',\n",
              "  'description': 'Fantasy book series by J.K. Rowling',\n",
              "  'category': 'Books'},\n",
              " '7': {'name': 'Fender Strat',\n",
              "  'description': 'Electric guitar with classic tones',\n",
              "  'category': 'Music'},\n",
              " '8': {'name': 'Canon DSLR',\n",
              "  'description': 'High-resolution digital camera',\n",
              "  'category': 'Electronics'},\n",
              " '9': {'name': 'Green Pan Set',\n",
              "  'description': 'Non-stick, eco-friendly pan set',\n",
              "  'category': 'Home'},\n",
              " '10': {'name': 'Sony Headphones',\n",
              "  'description': 'Noise-cancelling over the ear headphones',\n",
              "  'category': 'Electronics'}}"
            ]
          },
          "metadata": {},
          "execution_count": 3
        }
      ]
    },
    {
      "cell_type": "code",
      "source": [
        "# Users Data\n",
        "users = pd.read_csv('data/users.csv')\n",
        "users.head()"
      ],
      "metadata": {
        "colab": {
          "base_uri": "https://localhost:8080/",
          "height": 206
        },
        "id": "wiFuOZR8Xjr9",
        "outputId": "a72ba6d4-1297-4832-825e-aff29fd3ff45"
      },
      "execution_count": 4,
      "outputs": [
        {
          "output_type": "execute_result",
          "data": {
            "text/plain": [
              "   id gender     location  age    occupation preferred_category\n",
              "0   1      M     New York   29  Software Eng        Electronics\n",
              "1   2      F  Los Angeles   35      Musician              Music\n",
              "2   3      F        Miami   22       Student              Books\n",
              "3   4      M      Chicago   45          Chef            Kitchen\n",
              "4   5      F      Seattle   31      Designer         Home Decor"
            ],
            "text/html": [
              "\n",
              "  <div id=\"df-be01af00-9230-48c6-8f13-180b6e559019\" class=\"colab-df-container\">\n",
              "    <div>\n",
              "<style scoped>\n",
              "    .dataframe tbody tr th:only-of-type {\n",
              "        vertical-align: middle;\n",
              "    }\n",
              "\n",
              "    .dataframe tbody tr th {\n",
              "        vertical-align: top;\n",
              "    }\n",
              "\n",
              "    .dataframe thead th {\n",
              "        text-align: right;\n",
              "    }\n",
              "</style>\n",
              "<table border=\"1\" class=\"dataframe\">\n",
              "  <thead>\n",
              "    <tr style=\"text-align: right;\">\n",
              "      <th></th>\n",
              "      <th>id</th>\n",
              "      <th>gender</th>\n",
              "      <th>location</th>\n",
              "      <th>age</th>\n",
              "      <th>occupation</th>\n",
              "      <th>preferred_category</th>\n",
              "    </tr>\n",
              "  </thead>\n",
              "  <tbody>\n",
              "    <tr>\n",
              "      <th>0</th>\n",
              "      <td>1</td>\n",
              "      <td>M</td>\n",
              "      <td>New York</td>\n",
              "      <td>29</td>\n",
              "      <td>Software Eng</td>\n",
              "      <td>Electronics</td>\n",
              "    </tr>\n",
              "    <tr>\n",
              "      <th>1</th>\n",
              "      <td>2</td>\n",
              "      <td>F</td>\n",
              "      <td>Los Angeles</td>\n",
              "      <td>35</td>\n",
              "      <td>Musician</td>\n",
              "      <td>Music</td>\n",
              "    </tr>\n",
              "    <tr>\n",
              "      <th>2</th>\n",
              "      <td>3</td>\n",
              "      <td>F</td>\n",
              "      <td>Miami</td>\n",
              "      <td>22</td>\n",
              "      <td>Student</td>\n",
              "      <td>Books</td>\n",
              "    </tr>\n",
              "    <tr>\n",
              "      <th>3</th>\n",
              "      <td>4</td>\n",
              "      <td>M</td>\n",
              "      <td>Chicago</td>\n",
              "      <td>45</td>\n",
              "      <td>Chef</td>\n",
              "      <td>Kitchen</td>\n",
              "    </tr>\n",
              "    <tr>\n",
              "      <th>4</th>\n",
              "      <td>5</td>\n",
              "      <td>F</td>\n",
              "      <td>Seattle</td>\n",
              "      <td>31</td>\n",
              "      <td>Designer</td>\n",
              "      <td>Home Decor</td>\n",
              "    </tr>\n",
              "  </tbody>\n",
              "</table>\n",
              "</div>\n",
              "    <div class=\"colab-df-buttons\">\n",
              "\n",
              "  <div class=\"colab-df-container\">\n",
              "    <button class=\"colab-df-convert\" onclick=\"convertToInteractive('df-be01af00-9230-48c6-8f13-180b6e559019')\"\n",
              "            title=\"Convert this dataframe to an interactive table.\"\n",
              "            style=\"display:none;\">\n",
              "\n",
              "  <svg xmlns=\"http://www.w3.org/2000/svg\" height=\"24px\" viewBox=\"0 -960 960 960\">\n",
              "    <path d=\"M120-120v-720h720v720H120Zm60-500h600v-160H180v160Zm220 220h160v-160H400v160Zm0 220h160v-160H400v160ZM180-400h160v-160H180v160Zm440 0h160v-160H620v160ZM180-180h160v-160H180v160Zm440 0h160v-160H620v160Z\"/>\n",
              "  </svg>\n",
              "    </button>\n",
              "\n",
              "  <style>\n",
              "    .colab-df-container {\n",
              "      display:flex;\n",
              "      gap: 12px;\n",
              "    }\n",
              "\n",
              "    .colab-df-convert {\n",
              "      background-color: #E8F0FE;\n",
              "      border: none;\n",
              "      border-radius: 50%;\n",
              "      cursor: pointer;\n",
              "      display: none;\n",
              "      fill: #1967D2;\n",
              "      height: 32px;\n",
              "      padding: 0 0 0 0;\n",
              "      width: 32px;\n",
              "    }\n",
              "\n",
              "    .colab-df-convert:hover {\n",
              "      background-color: #E2EBFA;\n",
              "      box-shadow: 0px 1px 2px rgba(60, 64, 67, 0.3), 0px 1px 3px 1px rgba(60, 64, 67, 0.15);\n",
              "      fill: #174EA6;\n",
              "    }\n",
              "\n",
              "    .colab-df-buttons div {\n",
              "      margin-bottom: 4px;\n",
              "    }\n",
              "\n",
              "    [theme=dark] .colab-df-convert {\n",
              "      background-color: #3B4455;\n",
              "      fill: #D2E3FC;\n",
              "    }\n",
              "\n",
              "    [theme=dark] .colab-df-convert:hover {\n",
              "      background-color: #434B5C;\n",
              "      box-shadow: 0px 1px 3px 1px rgba(0, 0, 0, 0.15);\n",
              "      filter: drop-shadow(0px 1px 2px rgba(0, 0, 0, 0.3));\n",
              "      fill: #FFFFFF;\n",
              "    }\n",
              "  </style>\n",
              "\n",
              "    <script>\n",
              "      const buttonEl =\n",
              "        document.querySelector('#df-be01af00-9230-48c6-8f13-180b6e559019 button.colab-df-convert');\n",
              "      buttonEl.style.display =\n",
              "        google.colab.kernel.accessAllowed ? 'block' : 'none';\n",
              "\n",
              "      async function convertToInteractive(key) {\n",
              "        const element = document.querySelector('#df-be01af00-9230-48c6-8f13-180b6e559019');\n",
              "        const dataTable =\n",
              "          await google.colab.kernel.invokeFunction('convertToInteractive',\n",
              "                                                    [key], {});\n",
              "        if (!dataTable) return;\n",
              "\n",
              "        const docLinkHtml = 'Like what you see? Visit the ' +\n",
              "          '<a target=\"_blank\" href=https://colab.research.google.com/notebooks/data_table.ipynb>data table notebook</a>'\n",
              "          + ' to learn more about interactive tables.';\n",
              "        element.innerHTML = '';\n",
              "        dataTable['output_type'] = 'display_data';\n",
              "        await google.colab.output.renderOutput(dataTable, element);\n",
              "        const docLink = document.createElement('div');\n",
              "        docLink.innerHTML = docLinkHtml;\n",
              "        element.appendChild(docLink);\n",
              "      }\n",
              "    </script>\n",
              "  </div>\n",
              "\n",
              "\n",
              "<div id=\"df-e8e0a0ac-66c0-421f-befc-3dc4e67e01a3\">\n",
              "  <button class=\"colab-df-quickchart\" onclick=\"quickchart('df-e8e0a0ac-66c0-421f-befc-3dc4e67e01a3')\"\n",
              "            title=\"Suggest charts.\"\n",
              "            style=\"display:none;\">\n",
              "\n",
              "<svg xmlns=\"http://www.w3.org/2000/svg\" height=\"24px\"viewBox=\"0 0 24 24\"\n",
              "     width=\"24px\">\n",
              "    <g>\n",
              "        <path d=\"M19 3H5c-1.1 0-2 .9-2 2v14c0 1.1.9 2 2 2h14c1.1 0 2-.9 2-2V5c0-1.1-.9-2-2-2zM9 17H7v-7h2v7zm4 0h-2V7h2v10zm4 0h-2v-4h2v4z\"/>\n",
              "    </g>\n",
              "</svg>\n",
              "  </button>\n",
              "\n",
              "<style>\n",
              "  .colab-df-quickchart {\n",
              "    background-color: #E8F0FE;\n",
              "    border: none;\n",
              "    border-radius: 50%;\n",
              "    cursor: pointer;\n",
              "    display: none;\n",
              "    fill: #1967D2;\n",
              "    height: 32px;\n",
              "    padding: 0 0 0 0;\n",
              "    width: 32px;\n",
              "  }\n",
              "\n",
              "  .colab-df-quickchart:hover {\n",
              "    background-color: #E2EBFA;\n",
              "    box-shadow: 0px 1px 2px rgba(60, 64, 67, 0.3), 0px 1px 3px 1px rgba(60, 64, 67, 0.15);\n",
              "    fill: #174EA6;\n",
              "  }\n",
              "\n",
              "  [theme=dark] .colab-df-quickchart {\n",
              "    background-color: #3B4455;\n",
              "    fill: #D2E3FC;\n",
              "  }\n",
              "\n",
              "  [theme=dark] .colab-df-quickchart:hover {\n",
              "    background-color: #434B5C;\n",
              "    box-shadow: 0px 1px 3px 1px rgba(0, 0, 0, 0.15);\n",
              "    filter: drop-shadow(0px 1px 2px rgba(0, 0, 0, 0.3));\n",
              "    fill: #FFFFFF;\n",
              "  }\n",
              "</style>\n",
              "\n",
              "  <script>\n",
              "    async function quickchart(key) {\n",
              "      const charts = await google.colab.kernel.invokeFunction(\n",
              "          'suggestCharts', [key], {});\n",
              "    }\n",
              "    (() => {\n",
              "      let quickchartButtonEl =\n",
              "        document.querySelector('#df-e8e0a0ac-66c0-421f-befc-3dc4e67e01a3 button');\n",
              "      quickchartButtonEl.style.display =\n",
              "        google.colab.kernel.accessAllowed ? 'block' : 'none';\n",
              "    })();\n",
              "  </script>\n",
              "</div>\n",
              "    </div>\n",
              "  </div>\n"
            ]
          },
          "metadata": {},
          "execution_count": 4
        }
      ]
    },
    {
      "cell_type": "code",
      "source": [
        "# Interactions Data\n",
        "interactions = pd.read_csv('data/interactions.csv')\n",
        "interactions.head()"
      ],
      "metadata": {
        "colab": {
          "base_uri": "https://localhost:8080/",
          "height": 206
        },
        "id": "DApntW9NXzkW",
        "outputId": "48034a6b-b780-473a-c518-5e5c8b0f1152"
      },
      "execution_count": 5,
      "outputs": [
        {
          "output_type": "execute_result",
          "data": {
            "text/plain": [
              "   user_id  product_id  rating\n",
              "0        1           1       5\n",
              "1        1           2       2\n",
              "2        1           4       4\n",
              "3        1           5       5\n",
              "4        1           7       2"
            ],
            "text/html": [
              "\n",
              "  <div id=\"df-5affada4-a996-4544-845f-edeb17a617ed\" class=\"colab-df-container\">\n",
              "    <div>\n",
              "<style scoped>\n",
              "    .dataframe tbody tr th:only-of-type {\n",
              "        vertical-align: middle;\n",
              "    }\n",
              "\n",
              "    .dataframe tbody tr th {\n",
              "        vertical-align: top;\n",
              "    }\n",
              "\n",
              "    .dataframe thead th {\n",
              "        text-align: right;\n",
              "    }\n",
              "</style>\n",
              "<table border=\"1\" class=\"dataframe\">\n",
              "  <thead>\n",
              "    <tr style=\"text-align: right;\">\n",
              "      <th></th>\n",
              "      <th>user_id</th>\n",
              "      <th>product_id</th>\n",
              "      <th>rating</th>\n",
              "    </tr>\n",
              "  </thead>\n",
              "  <tbody>\n",
              "    <tr>\n",
              "      <th>0</th>\n",
              "      <td>1</td>\n",
              "      <td>1</td>\n",
              "      <td>5</td>\n",
              "    </tr>\n",
              "    <tr>\n",
              "      <th>1</th>\n",
              "      <td>1</td>\n",
              "      <td>2</td>\n",
              "      <td>2</td>\n",
              "    </tr>\n",
              "    <tr>\n",
              "      <th>2</th>\n",
              "      <td>1</td>\n",
              "      <td>4</td>\n",
              "      <td>4</td>\n",
              "    </tr>\n",
              "    <tr>\n",
              "      <th>3</th>\n",
              "      <td>1</td>\n",
              "      <td>5</td>\n",
              "      <td>5</td>\n",
              "    </tr>\n",
              "    <tr>\n",
              "      <th>4</th>\n",
              "      <td>1</td>\n",
              "      <td>7</td>\n",
              "      <td>2</td>\n",
              "    </tr>\n",
              "  </tbody>\n",
              "</table>\n",
              "</div>\n",
              "    <div class=\"colab-df-buttons\">\n",
              "\n",
              "  <div class=\"colab-df-container\">\n",
              "    <button class=\"colab-df-convert\" onclick=\"convertToInteractive('df-5affada4-a996-4544-845f-edeb17a617ed')\"\n",
              "            title=\"Convert this dataframe to an interactive table.\"\n",
              "            style=\"display:none;\">\n",
              "\n",
              "  <svg xmlns=\"http://www.w3.org/2000/svg\" height=\"24px\" viewBox=\"0 -960 960 960\">\n",
              "    <path d=\"M120-120v-720h720v720H120Zm60-500h600v-160H180v160Zm220 220h160v-160H400v160Zm0 220h160v-160H400v160ZM180-400h160v-160H180v160Zm440 0h160v-160H620v160ZM180-180h160v-160H180v160Zm440 0h160v-160H620v160Z\"/>\n",
              "  </svg>\n",
              "    </button>\n",
              "\n",
              "  <style>\n",
              "    .colab-df-container {\n",
              "      display:flex;\n",
              "      gap: 12px;\n",
              "    }\n",
              "\n",
              "    .colab-df-convert {\n",
              "      background-color: #E8F0FE;\n",
              "      border: none;\n",
              "      border-radius: 50%;\n",
              "      cursor: pointer;\n",
              "      display: none;\n",
              "      fill: #1967D2;\n",
              "      height: 32px;\n",
              "      padding: 0 0 0 0;\n",
              "      width: 32px;\n",
              "    }\n",
              "\n",
              "    .colab-df-convert:hover {\n",
              "      background-color: #E2EBFA;\n",
              "      box-shadow: 0px 1px 2px rgba(60, 64, 67, 0.3), 0px 1px 3px 1px rgba(60, 64, 67, 0.15);\n",
              "      fill: #174EA6;\n",
              "    }\n",
              "\n",
              "    .colab-df-buttons div {\n",
              "      margin-bottom: 4px;\n",
              "    }\n",
              "\n",
              "    [theme=dark] .colab-df-convert {\n",
              "      background-color: #3B4455;\n",
              "      fill: #D2E3FC;\n",
              "    }\n",
              "\n",
              "    [theme=dark] .colab-df-convert:hover {\n",
              "      background-color: #434B5C;\n",
              "      box-shadow: 0px 1px 3px 1px rgba(0, 0, 0, 0.15);\n",
              "      filter: drop-shadow(0px 1px 2px rgba(0, 0, 0, 0.3));\n",
              "      fill: #FFFFFF;\n",
              "    }\n",
              "  </style>\n",
              "\n",
              "    <script>\n",
              "      const buttonEl =\n",
              "        document.querySelector('#df-5affada4-a996-4544-845f-edeb17a617ed button.colab-df-convert');\n",
              "      buttonEl.style.display =\n",
              "        google.colab.kernel.accessAllowed ? 'block' : 'none';\n",
              "\n",
              "      async function convertToInteractive(key) {\n",
              "        const element = document.querySelector('#df-5affada4-a996-4544-845f-edeb17a617ed');\n",
              "        const dataTable =\n",
              "          await google.colab.kernel.invokeFunction('convertToInteractive',\n",
              "                                                    [key], {});\n",
              "        if (!dataTable) return;\n",
              "\n",
              "        const docLinkHtml = 'Like what you see? Visit the ' +\n",
              "          '<a target=\"_blank\" href=https://colab.research.google.com/notebooks/data_table.ipynb>data table notebook</a>'\n",
              "          + ' to learn more about interactive tables.';\n",
              "        element.innerHTML = '';\n",
              "        dataTable['output_type'] = 'display_data';\n",
              "        await google.colab.output.renderOutput(dataTable, element);\n",
              "        const docLink = document.createElement('div');\n",
              "        docLink.innerHTML = docLinkHtml;\n",
              "        element.appendChild(docLink);\n",
              "      }\n",
              "    </script>\n",
              "  </div>\n",
              "\n",
              "\n",
              "<div id=\"df-1f24e7cb-abf9-4bee-bd16-256dd874940e\">\n",
              "  <button class=\"colab-df-quickchart\" onclick=\"quickchart('df-1f24e7cb-abf9-4bee-bd16-256dd874940e')\"\n",
              "            title=\"Suggest charts.\"\n",
              "            style=\"display:none;\">\n",
              "\n",
              "<svg xmlns=\"http://www.w3.org/2000/svg\" height=\"24px\"viewBox=\"0 0 24 24\"\n",
              "     width=\"24px\">\n",
              "    <g>\n",
              "        <path d=\"M19 3H5c-1.1 0-2 .9-2 2v14c0 1.1.9 2 2 2h14c1.1 0 2-.9 2-2V5c0-1.1-.9-2-2-2zM9 17H7v-7h2v7zm4 0h-2V7h2v10zm4 0h-2v-4h2v4z\"/>\n",
              "    </g>\n",
              "</svg>\n",
              "  </button>\n",
              "\n",
              "<style>\n",
              "  .colab-df-quickchart {\n",
              "    background-color: #E8F0FE;\n",
              "    border: none;\n",
              "    border-radius: 50%;\n",
              "    cursor: pointer;\n",
              "    display: none;\n",
              "    fill: #1967D2;\n",
              "    height: 32px;\n",
              "    padding: 0 0 0 0;\n",
              "    width: 32px;\n",
              "  }\n",
              "\n",
              "  .colab-df-quickchart:hover {\n",
              "    background-color: #E2EBFA;\n",
              "    box-shadow: 0px 1px 2px rgba(60, 64, 67, 0.3), 0px 1px 3px 1px rgba(60, 64, 67, 0.15);\n",
              "    fill: #174EA6;\n",
              "  }\n",
              "\n",
              "  [theme=dark] .colab-df-quickchart {\n",
              "    background-color: #3B4455;\n",
              "    fill: #D2E3FC;\n",
              "  }\n",
              "\n",
              "  [theme=dark] .colab-df-quickchart:hover {\n",
              "    background-color: #434B5C;\n",
              "    box-shadow: 0px 1px 3px 1px rgba(0, 0, 0, 0.15);\n",
              "    filter: drop-shadow(0px 1px 2px rgba(0, 0, 0, 0.3));\n",
              "    fill: #FFFFFF;\n",
              "  }\n",
              "</style>\n",
              "\n",
              "  <script>\n",
              "    async function quickchart(key) {\n",
              "      const charts = await google.colab.kernel.invokeFunction(\n",
              "          'suggestCharts', [key], {});\n",
              "    }\n",
              "    (() => {\n",
              "      let quickchartButtonEl =\n",
              "        document.querySelector('#df-1f24e7cb-abf9-4bee-bd16-256dd874940e button');\n",
              "      quickchartButtonEl.style.display =\n",
              "        google.colab.kernel.accessAllowed ? 'block' : 'none';\n",
              "    })();\n",
              "  </script>\n",
              "</div>\n",
              "    </div>\n",
              "  </div>\n"
            ]
          },
          "metadata": {},
          "execution_count": 5
        }
      ]
    },
    {
      "cell_type": "markdown",
      "source": [
        "**Create embeddings from items data**"
      ],
      "metadata": {
        "id": "_IS_eR4cX-2H"
      }
    },
    {
      "cell_type": "code",
      "source": [
        "# Data\n",
        "with open('data/products.json', 'r') as json_file:\n",
        "    products = json.load(json_file)\n",
        "\n",
        "# Initialize the transformer model\n",
        "model = SentenceTransformer('paraphrase-distilroberta-base-v1')\n",
        "\n",
        "# Combining product name, description, and category\n",
        "combined_texts = [f\"{prod['name']} {prod['description']} {prod['category']}\" for _, prod in products.items()]\n",
        "\n",
        "# Generate embeddings\n",
        "product_embeddings = model.encode(combined_texts, convert_to_tensor=True)\n",
        "\n",
        "# Dimensionality reduction using PCA\n",
        "pca = PCA(n_components=3)\n",
        "product_embeddings = pca.fit_transform(product_embeddings)\n",
        "\n",
        "# items_data = product_embeddings\n",
        "\n",
        "# # Convert to torch tensor\n",
        "items_data = torch.tensor(product_embeddings, dtype=torch.float32)\n",
        "\n",
        "print(\"items data embeddings:\\n\", items_data)"
      ],
      "metadata": {
        "colab": {
          "base_uri": "https://localhost:8080/"
        },
        "id": "TDFtzptqX35f",
        "outputId": "25fc61a4-b7e3-40e9-ade6-d63ef266714e"
      },
      "execution_count": 6,
      "outputs": [
        {
          "output_type": "stream",
          "name": "stdout",
          "text": [
            "items data embeddings:\n",
            " tensor([[ 2.1626, -0.8523, -0.9422],\n",
            "        [-0.2020,  3.4703, -2.3967],\n",
            "        [-3.5307, -3.0231, -2.2731],\n",
            "        [ 2.8735, -0.6252, -0.6421],\n",
            "        [-1.8927,  4.8022,  1.3659],\n",
            "        [-2.9371, -1.3315, -1.9322],\n",
            "        [ 0.8515,  1.1805,  0.0867],\n",
            "        [ 1.0182, -1.3480,  2.9369],\n",
            "        [-2.4257, -1.3046,  4.0382],\n",
            "        [ 4.0824, -0.9681, -0.2415]])\n"
          ]
        }
      ]
    },
    {
      "cell_type": "markdown",
      "source": [
        "**Create embeddings from users data**"
      ],
      "metadata": {
        "id": "ZoB1fUJFYI5i"
      }
    },
    {
      "cell_type": "code",
      "source": [
        "# Load CSV data into a Pandas DataFrame\n",
        "df = pd.read_csv('data/users.csv')\n",
        "\n",
        "# Separate numerical and text columns\n",
        "numerical_cols = ['age']\n",
        "text_cols = ['gender', 'location', 'occupation', 'preferred_category']\n",
        "\n",
        "# Normalize numerical columns\n",
        "scaler = StandardScaler()\n",
        "numerical_data = scaler.fit_transform(df[numerical_cols])\n",
        "\n",
        "# Generate embeddings for text columns\n",
        "model = SentenceTransformer('paraphrase-MiniLM-L6-v2')\n",
        "text_dataframes = []\n",
        "\n",
        "for col in text_cols:\n",
        "    embeddings = model.encode(df[col].tolist())\n",
        "    # Convert to DataFrame\n",
        "    embeddings_df = pd.DataFrame(embeddings)\n",
        "    text_dataframes.append(embeddings_df)\n",
        "\n",
        "text_embeddings = pd.concat(text_dataframes, axis=1)\n",
        "\n",
        "# Concatenate the embeddings\n",
        "users_embeddings = pd.concat([pd.DataFrame(numerical_data), text_embeddings], axis=1).values\n",
        "\n",
        "# Dimensionality reduction using PCA\n",
        "pca = PCA(n_components=3)\n",
        "users_embeddings = pca.fit_transform(users_embeddings)\n",
        "users_data = users_embeddings\n",
        "# print(users_data)\n",
        "# Convert to torch tensor\n",
        "users_data = torch.tensor(users_embeddings, dtype=torch.float32)\n",
        "\n",
        "print(\"users data embeddings:\\n\", users_data)"
      ],
      "metadata": {
        "colab": {
          "base_uri": "https://localhost:8080/"
        },
        "id": "l6kAIwTUYGFr",
        "outputId": "7bcd5dd0-5f29-46e4-a875-ddefb430f5ea"
      },
      "execution_count": 7,
      "outputs": [
        {
          "output_type": "stream",
          "name": "stdout",
          "text": [
            "users data embeddings:\n",
            " tensor([[-8.2327,  7.4664, -2.8698],\n",
            "        [ 3.4268,  2.4652,  9.8292],\n",
            "        [ 8.7280,  3.4951, -5.0207],\n",
            "        [-6.3303, -6.2768,  1.0092],\n",
            "        [ 2.4082, -7.1500, -2.9480]])\n"
          ]
        }
      ]
    },
    {
      "cell_type": "markdown",
      "source": [
        "**Create interactions matrix from user-item interactions data**"
      ],
      "metadata": {
        "id": "OifpbtHvYaMf"
      }
    },
    {
      "cell_type": "code",
      "source": [
        "# Load the .csv file and generate interaction_data matrix:\n",
        "loaded_interactions = pd.read_csv('data/interactions.csv')\n",
        "\n",
        "interaction_data = -1 * np.ones((5, 10))  # Initializing with -1\n",
        "\n",
        "for index, row in loaded_interactions.iterrows():\n",
        "    user_idx = int(row['user_id']) - 1\n",
        "    product_idx = int(row['product_id']) - 1\n",
        "    interaction_data[user_idx][product_idx] = row['rating']\n",
        "# print(interaction_data)\n",
        "\n",
        "# Convert to torch tensor\n",
        "interaction_data = torch.tensor(interaction_data, dtype=torch.float32)\n",
        "\n",
        "print(\"interaction_data:\\n\", interaction_data)"
      ],
      "metadata": {
        "colab": {
          "base_uri": "https://localhost:8080/"
        },
        "id": "RTGK1n4_YTNv",
        "outputId": "b885a191-162f-4d21-f195-4e37d49dc495"
      },
      "execution_count": 8,
      "outputs": [
        {
          "output_type": "stream",
          "name": "stdout",
          "text": [
            "interaction_data:\n",
            " tensor([[ 5.,  2., -1.,  4.,  5., -1.,  2.,  5., -1., -1.],\n",
            "        [-1.,  3.,  5.,  2.,  1.,  1.,  4., -1., -1.,  2.],\n",
            "        [ 1.,  2.,  5.,  2., -1.,  1.,  2., -1., -1., -1.],\n",
            "        [-1.,  2.,  1., -1., -1.,  1., -1., -1., -1., -1.],\n",
            "        [ 1., -1., -1.,  1.,  1.,  2.,  2.,  1., -1., -1.]])\n"
          ]
        }
      ]
    },
    {
      "cell_type": "markdown",
      "source": [
        "**Recommendation using hybrid (deep learning and matrix factorization combined) model**"
      ],
      "metadata": {
        "id": "2_gxPf9FYo4f"
      }
    },
    {
      "cell_type": "code",
      "source": [
        "recommender = HybridRecommendation(users_data, items_data, interaction_data)\n",
        "print(\"Training:\")\n",
        "recommender.train()\n",
        "\n",
        "scores = recommender.predict()\n",
        "print(\"Recommendation scores:\\n\", scores)\n",
        "\n",
        "top_2_items = recommender.get_top_k_items(k=2)\n",
        "print(\"\\nID of recommended items for each user:\\n\", top_2_items.cpu().numpy())"
      ],
      "metadata": {
        "colab": {
          "base_uri": "https://localhost:8080/"
        },
        "id": "wlUILIuvYg4c",
        "outputId": "3347cd77-8745-4939-ecae-dac0c4ee3219"
      },
      "execution_count": 9,
      "outputs": [
        {
          "output_type": "stream",
          "name": "stdout",
          "text": [
            "Training:\n",
            "Epoch 0, Loss: 14.145487785339355\n",
            "Epoch 100, Loss: 0.12896530330181122\n",
            "Epoch 200, Loss: 0.004427038598805666\n",
            "Epoch 300, Loss: 0.0004299017309676856\n",
            "Epoch 400, Loss: 4.711831934400834e-05\n",
            "Epoch 500, Loss: 3.708788426592946e-06\n",
            "Epoch 600, Loss: 2.885967660404276e-07\n",
            "Epoch 700, Loss: 3.2723956877589444e-08\n",
            "Epoch 800, Loss: 3.897304257094447e-09\n",
            "Epoch 900, Loss: 3.8638972577054176e-10\n",
            "Recommendation scores:\n",
            " tensor([[ 5.0000,  2.0000,  2.4409,  4.0000,  5.0000,  4.0757,  2.0000,  5.0000,\n",
            "          5.0222,  3.6254],\n",
            "        [ 1.1530,  3.0000,  5.0000,  2.0000,  1.0000,  1.0000,  4.0000,  2.3320,\n",
            "          2.8729,  2.0000],\n",
            "        [ 1.0000,  2.0000,  5.0000,  2.0000, -0.3522,  1.0000,  2.0000,  1.9359,\n",
            "          2.3033,  1.3768],\n",
            "        [-0.1336,  2.0000,  1.0000,  0.2973,  2.6285,  1.0000,  0.9862,  0.0541,\n",
            "          1.2020, -0.3528],\n",
            "        [ 1.0000,  2.1821,  4.5415,  1.0000,  1.0000,  2.0000,  2.0000,  1.0000,\n",
            "          2.1620,  0.3677]], grad_fn=<AddBackward0>)\n",
            "\n",
            "ID of recommended items for each user:\n",
            " [[8 5]\n",
            " [8 7]\n",
            " [8 7]\n",
            " [4 8]\n",
            " [2 1]]\n"
          ]
        }
      ]
    },
    {
      "cell_type": "markdown",
      "source": [
        "**Recommendation using deep learning method**"
      ],
      "metadata": {
        "id": "6UYFf8Q0Y2rt"
      }
    },
    {
      "cell_type": "code",
      "source": [
        "recommender = DeepLearningRec(users_data, items_data, interaction_data)\n",
        "print(\"Training:\")\n",
        "recommender.train()\n",
        "\n",
        "scores = recommender.predict()\n",
        "print(\"Recommendation scores:\\n\", scores)\n",
        "\n",
        "top_2_items = recommender.get_top_k_items(k=2)\n",
        "print(\"\\nID of recommended items for each user:\\n\", top_2_items.cpu().numpy())"
      ],
      "metadata": {
        "colab": {
          "base_uri": "https://localhost:8080/"
        },
        "id": "CLvi-PO5Ysxg",
        "outputId": "ef1ae031-589f-49f9-bef0-c51bb9d9ad8a"
      },
      "execution_count": 10,
      "outputs": [
        {
          "output_type": "stream",
          "name": "stdout",
          "text": [
            "Training:\n",
            "Epoch 0, Loss: 21.365787506103516\n",
            "Epoch 100, Loss: 0.8142960667610168\n",
            "Epoch 200, Loss: 0.42982250452041626\n",
            "Epoch 300, Loss: 0.1112191453576088\n",
            "Epoch 400, Loss: 0.023827942088246346\n",
            "Epoch 500, Loss: 0.013035465963184834\n",
            "Epoch 600, Loss: 0.009420807473361492\n",
            "Epoch 700, Loss: 0.006620779633522034\n",
            "Epoch 800, Loss: 0.004632570315152407\n",
            "Epoch 900, Loss: 0.0030581001192331314\n",
            "Recommendation scores:\n",
            " tensor([[ 4.9842,  1.9974, 11.3015,  4.0184,  4.9997,  7.7627,  2.0083,  5.0027,\n",
            "          4.9392,  3.9224],\n",
            "        [ 1.3778,  3.0059,  4.9912,  1.9773,  1.0061,  1.0116,  3.9961,  2.9399,\n",
            "          2.2365,  2.0284],\n",
            "        [ 1.1618,  1.9861,  5.0144,  1.8361,  1.3337,  0.9896,  2.0181,  2.5156,\n",
            "          1.1908,  1.7334],\n",
            "        [-1.7727,  2.0053,  0.9995, -1.9279,  1.0647,  0.9994,  0.6961, -0.5019,\n",
            "          2.9260, -2.4702],\n",
            "        [ 1.0097,  2.1634,  1.6287,  0.9901,  0.9982,  1.9739,  2.0155,  0.9975,\n",
            "          1.9350,  0.4663]], grad_fn=<ViewBackward0>)\n",
            "\n",
            "ID of recommended items for each user:\n",
            " [[2 5]\n",
            " [7 8]\n",
            " [7 9]\n",
            " [8 4]\n",
            " [1 8]]\n"
          ]
        }
      ]
    },
    {
      "cell_type": "markdown",
      "source": [
        "**Recommendation using matrix factorization**"
      ],
      "metadata": {
        "id": "62_7GJLoZAIe"
      }
    },
    {
      "cell_type": "code",
      "source": [
        "recommender = MatrixFactorization(interaction_data)\n",
        "print(\"Training:\")\n",
        "recommender.train()\n",
        "\n",
        "scores = recommender.predict()\n",
        "print(\"Recommendation scores:\\n\", scores)\n",
        "\n",
        "top_2_items = recommender.get_top_k_items(k=2)\n",
        "print(\"\\nID of recommended items for each user:\\n\", top_2_items.cpu().numpy())"
      ],
      "metadata": {
        "colab": {
          "base_uri": "https://localhost:8080/"
        },
        "id": "YedWYIDHY7dv",
        "outputId": "14e6cc15-844a-4245-c43b-a8c2f048069c"
      },
      "execution_count": 11,
      "outputs": [
        {
          "output_type": "stream",
          "name": "stdout",
          "text": [
            "Training:\n",
            "Epoch 0, Loss: 11.612006187438965\n",
            "Epoch 100, Loss: 5.90090274810791\n",
            "Epoch 200, Loss: 4.268473148345947\n",
            "Epoch 300, Loss: 3.240995168685913\n",
            "Epoch 400, Loss: 2.1425223350524902\n",
            "Epoch 500, Loss: 1.0853204727172852\n",
            "Epoch 600, Loss: 0.49127987027168274\n",
            "Epoch 700, Loss: 0.26041120290756226\n",
            "Epoch 800, Loss: 0.16621996462345123\n",
            "Epoch 900, Loss: 0.12038250267505646\n",
            "Recommendation scores:\n",
            " tensor([[ 4.8909,  2.0107,  6.2174,  3.8992,  4.7118,  2.5147,  2.2380,  4.9651,\n",
            "         -1.3599,  0.2591],\n",
            "        [ 0.5559,  3.0965,  5.1074,  2.0605,  1.2198,  1.2182,  3.5212,  2.6061,\n",
            "         -0.4018,  2.0440],\n",
            "        [ 1.5683,  2.0371,  4.6845,  2.1413,  1.2432,  0.9474,  2.1952,  2.7523,\n",
            "         -0.6178,  1.2330],\n",
            "        [-0.1665,  1.7204,  1.0988,  0.6021,  1.8182,  1.3019,  2.2418,  0.6673,\n",
            "          0.0518,  0.8030],\n",
            "        [ 0.6673,  1.4354,  1.9185,  1.0509,  1.6894,  1.1203,  1.7670,  1.2872,\n",
            "         -0.2064,  0.6304]], grad_fn=<MmBackward0>)\n",
            "\n",
            "ID of recommended items for each user:\n",
            " [[2 5]\n",
            " [7 0]\n",
            " [7 4]\n",
            " [6 4]\n",
            " [2 1]]\n"
          ]
        }
      ]
    },
    {
      "cell_type": "markdown",
      "source": [
        "**Content-based Recommendation - base model**"
      ],
      "metadata": {
        "id": "Q0m5aH71ZYCA"
      }
    },
    {
      "cell_type": "code",
      "source": [
        "recommender = SimpleContentBasedRec(users_data, items_data)\n",
        "scores = recommender.recommend()\n",
        "\n",
        "print(\"Recommendation scores:\\n\", scores)\n",
        "\n",
        "top_2_items = scores.argsort(axis=1)[:, -2:]\n",
        "\n",
        "print(\"\\nID of recommended items for each user:\\n\", top_2_items)"
      ],
      "metadata": {
        "colab": {
          "base_uri": "https://localhost:8080/"
        },
        "id": "aIGgDt4cZSNO",
        "outputId": "07deca76-3724-4537-8dfc-d8316bd8dc02"
      },
      "execution_count": 12,
      "outputs": [
        {
          "output_type": "stream",
          "name": "stdout",
          "text": [
            "Recommendation scores:\n",
            " [[-0.67773423  0.73958571  0.1704843  -0.71621783  0.75326672  0.41576943\n",
            "   0.16994036 -0.67771672 -0.12356541 -0.80297054]\n",
            " [-0.25820006 -0.41060735 -0.76486232 -0.02904967  0.37299983 -0.82004831\n",
            "   0.39412271  0.82765811  0.63967572  0.14482818]\n",
            " [ 0.75146115  0.56348818 -0.43162405  0.78719068 -0.09735943 -0.37935057\n",
            "   0.67607839 -0.40427076 -0.8827374   0.69880729]\n",
            " [-0.35020174 -0.63014383  0.79596882 -0.49901546 -0.40449068  0.67787172\n",
            "  -0.96961037  0.21246065  0.58390761 -0.47266951]\n",
            " [ 0.70329445 -0.46868367  0.5431862   0.54654924 -0.9920567   0.3476068\n",
            "  -0.60848323  0.04154539 -0.23528623  0.50367619]]\n",
            "\n",
            "ID of recommended items for each user:\n",
            " [[1 4]\n",
            " [8 7]\n",
            " [0 3]\n",
            " [5 2]\n",
            " [3 0]]\n"
          ]
        }
      ]
    },
    {
      "cell_type": "markdown",
      "source": [
        "**Content-based Recommendation - BERT model**"
      ],
      "metadata": {
        "id": "mttaA_HHZNgz"
      }
    },
    {
      "cell_type": "code",
      "source": [
        "with open('data/products.json', 'r') as json_file:\n",
        "    items_data = json.load(json_file)\n",
        "users_data = pd.read_csv(\"data/users.csv\")\n",
        "\n",
        "# Convert products and users_data to list of concatenated strings\n",
        "products_data = [f\"{product['name']} {product['description']} {product['category']}\" for product in items_data.values()]\n",
        "users_strings = users_data.apply(lambda row: f\"{row['gender']} {row['location']} {row['age']} {row['occupation']} {row['preferred_category']}\", axis=1).tolist()\n",
        "\n",
        "recommender = ContentBasedRecommendation(users_strings, products_data)\n",
        "scores = recommender.recommend()\n",
        "\n",
        "print(\"Recommendation scores:\\n\", scores)\n",
        "\n",
        "top_2_items = scores.argsort(axis=1)[:, -2:]\n",
        "\n",
        "print(\"\\nID of recommended items for each user:\\n\", top_2_items.cpu().numpy())"
      ],
      "metadata": {
        "colab": {
          "base_uri": "https://localhost:8080/"
        },
        "id": "lz1t4MvOZE0m",
        "outputId": "66c91308-de28-46e1-d73f-61284660c959"
      },
      "execution_count": 13,
      "outputs": [
        {
          "output_type": "stream",
          "name": "stdout",
          "text": [
            "Recommendation scores:\n",
            " tensor([[0.8089, 0.8369, 0.7205, 0.8276, 0.7692, 0.7426, 0.8126, 0.6983, 0.7796,\n",
            "         0.6849],\n",
            "        [0.7890, 0.8499, 0.7418, 0.8069, 0.8115, 0.8079, 0.8682, 0.6770, 0.7854,\n",
            "         0.6931],\n",
            "        [0.8022, 0.8667, 0.7390, 0.8159, 0.7963, 0.8248, 0.8558, 0.6596, 0.7821,\n",
            "         0.6759],\n",
            "        [0.7744, 0.8251, 0.7120, 0.7797, 0.7815, 0.7595, 0.8187, 0.6405, 0.7972,\n",
            "         0.6290],\n",
            "        [0.7762, 0.8500, 0.7312, 0.7980, 0.8180, 0.7827, 0.8281, 0.6660, 0.8255,\n",
            "         0.6763]])\n",
            "\n",
            "ID of recommended items for each user:\n",
            " [[3 1]\n",
            " [1 6]\n",
            " [6 1]\n",
            " [6 1]\n",
            " [6 1]]\n"
          ]
        }
      ]
    },
    {
      "cell_type": "code",
      "source": [],
      "metadata": {
        "id": "HPq7BsA3ZbmK"
      },
      "execution_count": 13,
      "outputs": []
    }
  ]
}
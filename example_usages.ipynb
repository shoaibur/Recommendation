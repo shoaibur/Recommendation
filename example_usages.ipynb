{
 "cells": [
  {
   "cell_type": "markdown",
   "id": "f92fa02f",
   "metadata": {},
   "source": [
    "### Imports"
   ]
  },
  {
   "cell_type": "code",
   "execution_count": 1,
   "id": "69d0d65f",
   "metadata": {},
   "outputs": [],
   "source": [
    "from models.content_based_recommendation_base import SimpleContentBasedRec\n",
    "from models.content_based_recommendation_bert import ContentBasedRecommendation\n",
    "from models.matrix_factorization_based_recommendation import MatrixFactorization\n",
    "from models.deep_learning_based_recommendation import DeepLearningRec\n",
    "from models.hybrid_recommendation import HybridRecommendation"
   ]
  },
  {
   "cell_type": "markdown",
   "id": "a56df8a2",
   "metadata": {},
   "source": [
    "### Processed Data\n",
    "* users_data: Data for 3 users (rows) with 3 features representing each user\n",
    "* items_data: Data for 5 items (rows) with 3 features representing each item\n",
    "* interaction_data: User-Item interaction data. -1 represents no interaction is avaiable. Each row represents a user and each column represents an item."
   ]
  },
  {
   "cell_type": "code",
   "execution_count": 2,
   "id": "2bf00dbf",
   "metadata": {},
   "outputs": [],
   "source": [
    "users_data = [\n",
    "    [0.1, 0.2, 0.3],\n",
    "    [0.5, 0.3, 0.1],\n",
    "    [0.4, 0.6, 0.2]\n",
    "]\n",
    "\n",
    "items_data = [\n",
    "    [0.2, 0.3, 0.1],\n",
    "    [0.6, 0.2, 0.4],\n",
    "    [0.5, 0.4, 0.6],\n",
    "    [0.1, 0.7, 0.3],\n",
    "    [0.3, 0.1, 0.8]\n",
    "]\n",
    "\n",
    "interaction_data = [\n",
    "    [5, -1, 2, 3, 2],\n",
    "    [1, 4, -1, -1, 3],\n",
    "    [3, -1, -1, 1, -1]\n",
    "]"
   ]
  },
  {
   "cell_type": "markdown",
   "id": "160c19f8",
   "metadata": {},
   "source": [
    "### Hybrid Model"
   ]
  },
  {
   "cell_type": "code",
   "execution_count": 3,
   "id": "f1d6e892",
   "metadata": {},
   "outputs": [
    {
     "name": "stdout",
     "output_type": "stream",
     "text": [
      "Training:\n",
      "\n",
      "Epoch 0, Loss: 6.931765556335449\n",
      "Epoch 100, Loss: 0.48220306634902954\n",
      "Epoch 200, Loss: 1.484943277318962e-05\n",
      "Epoch 300, Loss: 6.02491279089179e-10\n",
      "Epoch 400, Loss: 5.092222826676325e-14\n",
      "Epoch 500, Loss: 2.0526789767721584e-14\n",
      "Epoch 600, Loss: 2.0526789767721584e-14\n",
      "Epoch 700, Loss: 2.0526789767721584e-14\n",
      "Epoch 800, Loss: 2.0526789767721584e-14\n",
      "Epoch 900, Loss: 7.894919662682423e-15\n",
      "Recommendation scores:\n",
      " tensor([[ 5.0000, -0.1456,  2.0000,  3.0000,  2.0000],\n",
      "        [ 1.0000,  4.0000, -0.9097,  1.6840,  3.0000],\n",
      "        [ 3.0000,  3.8267,  0.8681,  1.0000,  2.9870]], grad_fn=<AddBackward0>)\n",
      "\n",
      "Indices of recommended items for each user:\n",
      " tensor([[1, 0],\n",
      "        [3, 2],\n",
      "        [1, 4]])\n"
     ]
    }
   ],
   "source": [
    "recommender = HybridRecommendation(users_data, items_data, interaction_data)\n",
    "print(\"Training:\\n\")\n",
    "recommender.train()\n",
    "\n",
    "scores = recommender.predict()\n",
    "print(\"Recommendation scores:\\n\", scores)\n",
    "\n",
    "top_2_items = recommender.get_top_k_items(k=2)\n",
    "print(\"\\nIndices of recommended items for each user:\\n\", top_2_items)"
   ]
  },
  {
   "cell_type": "markdown",
   "id": "d229ebf1",
   "metadata": {},
   "source": [
    "### Deep Learning Based Model"
   ]
  },
  {
   "cell_type": "code",
   "execution_count": 4,
   "id": "9aa28ec0",
   "metadata": {},
   "outputs": [
    {
     "name": "stdout",
     "output_type": "stream",
     "text": [
      "Training:\n",
      "\n",
      "Epoch 0, Loss: 8.023299217224121\n",
      "Epoch 100, Loss: 1.6829770803451538\n",
      "Epoch 200, Loss: 1.2565566301345825\n",
      "Epoch 300, Loss: 1.0345473289489746\n",
      "Epoch 400, Loss: 1.0209916830062866\n",
      "Epoch 500, Loss: 1.0195825099945068\n",
      "Epoch 600, Loss: 1.0194268226623535\n",
      "Epoch 700, Loss: 1.019411563873291\n",
      "Epoch 800, Loss: 1.0194106101989746\n",
      "Epoch 900, Loss: 1.0194103717803955\n",
      "Recommendation scores:\n",
      " tensor([[3.8701, 4.1256, 2.9921, 2.2546, 2.8832],\n",
      "        [2.9104, 3.1659, 2.0325, 1.2745, 1.9236],\n",
      "        [2.8077, 3.0633, 1.9298, 1.1923, 1.8209]], grad_fn=<ViewBackward0>)\n",
      "\n",
      "Indices of recommended items for each user:\n",
      " tensor([[1, 0],\n",
      "        [2, 3],\n",
      "        [1, 2]])\n"
     ]
    }
   ],
   "source": [
    "recommender = DeepLearningRec(users_data, items_data, interaction_data)\n",
    "print(\"Training:\\n\")\n",
    "recommender.train()\n",
    "\n",
    "scores = recommender.predict()\n",
    "print(\"Recommendation scores:\\n\", scores)\n",
    "\n",
    "top_2_items = recommender.get_top_k_items(k=2)\n",
    "print(\"\\nIndices of recommended items for each user:\\n\", top_2_items)"
   ]
  },
  {
   "cell_type": "markdown",
   "id": "36dd3c5e",
   "metadata": {},
   "source": [
    "### Matrix Factorization Based Model"
   ]
  },
  {
   "cell_type": "code",
   "execution_count": 5,
   "id": "60f1f25d",
   "metadata": {},
   "outputs": [
    {
     "name": "stdout",
     "output_type": "stream",
     "text": [
      "Training:\n",
      "\n",
      "Epoch 0, Loss: 6.210940361022949\n",
      "Epoch 100, Loss: 0.3846004903316498\n",
      "Epoch 200, Loss: 0.054299965500831604\n",
      "Epoch 300, Loss: 0.011069821193814278\n",
      "Epoch 400, Loss: 0.0023782136850059032\n",
      "Epoch 500, Loss: 0.0005272282287478447\n",
      "Epoch 600, Loss: 0.0001196275043184869\n",
      "Epoch 700, Loss: 2.7674475859384984e-05\n",
      "Epoch 800, Loss: 6.520410806842847e-06\n",
      "Epoch 900, Loss: 1.5645409803255461e-06\n",
      "Recommendation scores:\n",
      " tensor([[ 4.9990, -1.2971,  2.0007,  3.0009,  2.0002],\n",
      "        [ 0.9999,  4.0001, -1.1754,  1.5953,  2.9998],\n",
      "        [ 3.0007,  3.2215,  1.0771,  0.9992,  3.2147]], grad_fn=<MmBackward0>)\n",
      "\n",
      "Indices of recommended items for each user:\n",
      " tensor([[1, 0],\n",
      "        [3, 2],\n",
      "        [1, 4]])\n"
     ]
    }
   ],
   "source": [
    "recommender = MatrixFactorization(interaction_data)\n",
    "print(\"Training:\\n\")\n",
    "recommender.train()\n",
    "\n",
    "scores = recommender.predict()\n",
    "print(\"Recommendation scores:\\n\", scores)\n",
    "\n",
    "top_2_items = recommender.get_top_k_items(k=2)\n",
    "print(\"\\nIndices of recommended items for each user:\\n\", top_2_items)"
   ]
  },
  {
   "cell_type": "markdown",
   "id": "c2aaf4a5",
   "metadata": {},
   "source": [
    "### Base Model"
   ]
  },
  {
   "cell_type": "code",
   "execution_count": 6,
   "id": "1cf5e72d",
   "metadata": {},
   "outputs": [
    {
     "name": "stdout",
     "output_type": "stream",
     "text": [
      "Recommendation scores:\n",
      " [[-0.1480437  -0.44712998 -0.28083058 -0.13797863  0.82228423]\n",
      " [ 0.40718943  0.72775949 -0.0435365  -0.34203581 -0.51280914]\n",
      " [-0.24505729 -0.17145368  0.45937234  0.58889667 -0.61980778]]\n",
      "\n",
      "Indices of recommended items for each user:\n",
      " [[3 4]\n",
      " [0 1]\n",
      " [2 3]]\n"
     ]
    }
   ],
   "source": [
    "recommender = SimpleContentBasedRec(users_data, items_data)\n",
    "scores = recommender.recommend()\n",
    "\n",
    "print(\"Recommendation scores:\\n\", scores)\n",
    "\n",
    "# To get top n recommendations for each user\n",
    "n = 2\n",
    "top_N_items = scores.argsort(axis=1)[:, -n:]\n",
    "\n",
    "print(\"\\nIndices of recommended items for each user:\\n\", top_N_items)"
   ]
  },
  {
   "cell_type": "markdown",
   "id": "e16fd2a6",
   "metadata": {},
   "source": [
    "### BERT Model"
   ]
  },
  {
   "cell_type": "code",
   "execution_count": 7,
   "id": "2ace517f",
   "metadata": {},
   "outputs": [],
   "source": [
    "# users_data = [\"I love science fiction movies.\", \"I prefer romantic movies.\"]\n",
    "# items_data = [\"A science fiction movie about space.\", \"A romantic movie set in Paris.\", \"An action-packed thriller.\"]\n",
    "\n",
    "# recommender = ContentBasedRecommendation(users_data, items_data)\n",
    "# scores = recommender.recommend()\n",
    "# print(scores)"
   ]
  }
 ],
 "metadata": {
  "kernelspec": {
   "display_name": "Python 3 (ipykernel)",
   "language": "python",
   "name": "python3"
  },
  "language_info": {
   "codemirror_mode": {
    "name": "ipython",
    "version": 3
   },
   "file_extension": ".py",
   "mimetype": "text/x-python",
   "name": "python",
   "nbconvert_exporter": "python",
   "pygments_lexer": "ipython3",
   "version": "3.9.13"
  }
 },
 "nbformat": 4,
 "nbformat_minor": 5
}

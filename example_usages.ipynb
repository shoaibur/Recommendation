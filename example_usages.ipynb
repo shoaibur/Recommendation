{
 "cells": [
  {
   "cell_type": "markdown",
   "metadata": {},
   "source": [
    "### Imports"
   ]
  },
  {
   "cell_type": "code",
   "execution_count": 1,
   "metadata": {
    "id": "kGCwHfd6sPn_"
   },
   "outputs": [],
   "source": [
    "import json\n",
    "import pandas as pd\n",
    "import numpy as np\n",
    "import torch\n",
    "\n",
    "from sklearn.decomposition import PCA\n",
    "from sklearn.preprocessing import StandardScaler\n",
    "from sentence_transformers import SentenceTransformer, util\n",
    "\n",
    "from models.content_based_recommendation_base import SimpleContentBasedRec\n",
    "from models.content_based_recommendation_bert import ContentBasedRecommendation\n",
    "from models.matrix_factorization_based_recommendation import MatrixFactorization\n",
    "from models.deep_learning_based_recommendation import DeepLearningRec\n",
    "from models.hybrid_recommendation import HybridRecommendation"
   ]
  },
  {
   "cell_type": "markdown",
   "metadata": {},
   "source": [
    "### Visualize Data"
   ]
  },
  {
   "cell_type": "code",
   "execution_count": 7,
   "metadata": {
    "colab": {
     "base_uri": "https://localhost:8080/"
    },
    "id": "aK8DbyXWmfg_",
    "outputId": "67cf84da-60c5-425c-b2de-290c09565606"
   },
   "outputs": [
    {
     "data": {
      "text/plain": [
       "{'1': {'name': 'Apple iPhone 12',\n",
       "  'description': 'Smartphone with A14 Bionic chip',\n",
       "  'category': 'Electronics'},\n",
       " '2': {'name': 'Nike Air Max',\n",
       "  'description': 'Athletic shoes with cushion support',\n",
       "  'category': 'Fashion'},\n",
       " '3': {'name': 'LEGO Star Wars',\n",
       "  'description': 'Building toy set from Star Wars series',\n",
       "  'category': 'Toys'},\n",
       " '4': {'name': 'Logitech Mouse',\n",
       "  'description': 'Wireless optical mouse',\n",
       "  'category': 'Electronics'},\n",
       " '5': {'name': \"Levi's Jeans\",\n",
       "  'description': 'Denim straight fit jeans',\n",
       "  'category': 'Fashion'},\n",
       " '6': {'name': 'Harry Potter',\n",
       "  'description': 'Fantasy book series by J.K. Rowling',\n",
       "  'category': 'Books'},\n",
       " '7': {'name': 'Fender Strat',\n",
       "  'description': 'Electric guitar with classic tones',\n",
       "  'category': 'Music'},\n",
       " '8': {'name': 'Canon DSLR',\n",
       "  'description': 'High-resolution digital camera',\n",
       "  'category': 'Electronics'},\n",
       " '9': {'name': 'Green Pan Set',\n",
       "  'description': 'Non-stick, eco-friendly pan set',\n",
       "  'category': 'Home'},\n",
       " '10': {'name': 'Sony Headphones',\n",
       "  'description': 'Noise-cancelling over the ear headphones',\n",
       "  'category': 'Electronics'}}"
      ]
     },
     "execution_count": 7,
     "metadata": {},
     "output_type": "execute_result"
    }
   ],
   "source": [
    "# Items Data\n",
    "with open('products.json', 'r') as json_file:\n",
    "    products = json.load(json_file)\n",
    "products"
   ]
  },
  {
   "cell_type": "code",
   "execution_count": 8,
   "metadata": {
    "colab": {
     "base_uri": "https://localhost:8080/",
     "height": 206
    },
    "id": "mdq9qgFwkBBX",
    "outputId": "5742c493-3704-45df-f584-058a537ab12b"
   },
   "outputs": [
    {
     "data": {
      "text/html": [
       "\n",
       "  <div id=\"df-ebd91f8f-d2f0-4ad8-993f-21addeda9477\" class=\"colab-df-container\">\n",
       "    <div>\n",
       "<style scoped>\n",
       "    .dataframe tbody tr th:only-of-type {\n",
       "        vertical-align: middle;\n",
       "    }\n",
       "\n",
       "    .dataframe tbody tr th {\n",
       "        vertical-align: top;\n",
       "    }\n",
       "\n",
       "    .dataframe thead th {\n",
       "        text-align: right;\n",
       "    }\n",
       "</style>\n",
       "<table border=\"1\" class=\"dataframe\">\n",
       "  <thead>\n",
       "    <tr style=\"text-align: right;\">\n",
       "      <th></th>\n",
       "      <th>id</th>\n",
       "      <th>gender</th>\n",
       "      <th>location</th>\n",
       "      <th>age</th>\n",
       "      <th>occupation</th>\n",
       "      <th>preferred_category</th>\n",
       "    </tr>\n",
       "  </thead>\n",
       "  <tbody>\n",
       "    <tr>\n",
       "      <th>0</th>\n",
       "      <td>1</td>\n",
       "      <td>M</td>\n",
       "      <td>New York</td>\n",
       "      <td>29</td>\n",
       "      <td>Software Eng</td>\n",
       "      <td>Electronics</td>\n",
       "    </tr>\n",
       "    <tr>\n",
       "      <th>1</th>\n",
       "      <td>2</td>\n",
       "      <td>F</td>\n",
       "      <td>Los Angeles</td>\n",
       "      <td>35</td>\n",
       "      <td>Musician</td>\n",
       "      <td>Music</td>\n",
       "    </tr>\n",
       "    <tr>\n",
       "      <th>2</th>\n",
       "      <td>3</td>\n",
       "      <td>F</td>\n",
       "      <td>Miami</td>\n",
       "      <td>22</td>\n",
       "      <td>Student</td>\n",
       "      <td>Books</td>\n",
       "    </tr>\n",
       "    <tr>\n",
       "      <th>3</th>\n",
       "      <td>4</td>\n",
       "      <td>M</td>\n",
       "      <td>Chicago</td>\n",
       "      <td>45</td>\n",
       "      <td>Chef</td>\n",
       "      <td>Kitchen</td>\n",
       "    </tr>\n",
       "    <tr>\n",
       "      <th>4</th>\n",
       "      <td>5</td>\n",
       "      <td>F</td>\n",
       "      <td>Seattle</td>\n",
       "      <td>31</td>\n",
       "      <td>Designer</td>\n",
       "      <td>Home Decor</td>\n",
       "    </tr>\n",
       "  </tbody>\n",
       "</table>\n",
       "</div>\n",
       "    <div class=\"colab-df-buttons\">\n",
       "\n",
       "  <div class=\"colab-df-container\">\n",
       "    <button class=\"colab-df-convert\" onclick=\"convertToInteractive('df-ebd91f8f-d2f0-4ad8-993f-21addeda9477')\"\n",
       "            title=\"Convert this dataframe to an interactive table.\"\n",
       "            style=\"display:none;\">\n",
       "\n",
       "  <svg xmlns=\"http://www.w3.org/2000/svg\" height=\"24px\" viewBox=\"0 -960 960 960\">\n",
       "    <path d=\"M120-120v-720h720v720H120Zm60-500h600v-160H180v160Zm220 220h160v-160H400v160Zm0 220h160v-160H400v160ZM180-400h160v-160H180v160Zm440 0h160v-160H620v160ZM180-180h160v-160H180v160Zm440 0h160v-160H620v160Z\"/>\n",
       "  </svg>\n",
       "    </button>\n",
       "\n",
       "  <style>\n",
       "    .colab-df-container {\n",
       "      display:flex;\n",
       "      gap: 12px;\n",
       "    }\n",
       "\n",
       "    .colab-df-convert {\n",
       "      background-color: #E8F0FE;\n",
       "      border: none;\n",
       "      border-radius: 50%;\n",
       "      cursor: pointer;\n",
       "      display: none;\n",
       "      fill: #1967D2;\n",
       "      height: 32px;\n",
       "      padding: 0 0 0 0;\n",
       "      width: 32px;\n",
       "    }\n",
       "\n",
       "    .colab-df-convert:hover {\n",
       "      background-color: #E2EBFA;\n",
       "      box-shadow: 0px 1px 2px rgba(60, 64, 67, 0.3), 0px 1px 3px 1px rgba(60, 64, 67, 0.15);\n",
       "      fill: #174EA6;\n",
       "    }\n",
       "\n",
       "    .colab-df-buttons div {\n",
       "      margin-bottom: 4px;\n",
       "    }\n",
       "\n",
       "    [theme=dark] .colab-df-convert {\n",
       "      background-color: #3B4455;\n",
       "      fill: #D2E3FC;\n",
       "    }\n",
       "\n",
       "    [theme=dark] .colab-df-convert:hover {\n",
       "      background-color: #434B5C;\n",
       "      box-shadow: 0px 1px 3px 1px rgba(0, 0, 0, 0.15);\n",
       "      filter: drop-shadow(0px 1px 2px rgba(0, 0, 0, 0.3));\n",
       "      fill: #FFFFFF;\n",
       "    }\n",
       "  </style>\n",
       "\n",
       "    <script>\n",
       "      const buttonEl =\n",
       "        document.querySelector('#df-ebd91f8f-d2f0-4ad8-993f-21addeda9477 button.colab-df-convert');\n",
       "      buttonEl.style.display =\n",
       "        google.colab.kernel.accessAllowed ? 'block' : 'none';\n",
       "\n",
       "      async function convertToInteractive(key) {\n",
       "        const element = document.querySelector('#df-ebd91f8f-d2f0-4ad8-993f-21addeda9477');\n",
       "        const dataTable =\n",
       "          await google.colab.kernel.invokeFunction('convertToInteractive',\n",
       "                                                    [key], {});\n",
       "        if (!dataTable) return;\n",
       "\n",
       "        const docLinkHtml = 'Like what you see? Visit the ' +\n",
       "          '<a target=\"_blank\" href=https://colab.research.google.com/notebooks/data_table.ipynb>data table notebook</a>'\n",
       "          + ' to learn more about interactive tables.';\n",
       "        element.innerHTML = '';\n",
       "        dataTable['output_type'] = 'display_data';\n",
       "        await google.colab.output.renderOutput(dataTable, element);\n",
       "        const docLink = document.createElement('div');\n",
       "        docLink.innerHTML = docLinkHtml;\n",
       "        element.appendChild(docLink);\n",
       "      }\n",
       "    </script>\n",
       "  </div>\n",
       "\n",
       "\n",
       "<div id=\"df-5d383dca-d463-4da4-a18c-d8e314d11b89\">\n",
       "  <button class=\"colab-df-quickchart\" onclick=\"quickchart('df-5d383dca-d463-4da4-a18c-d8e314d11b89')\"\n",
       "            title=\"Suggest charts.\"\n",
       "            style=\"display:none;\">\n",
       "\n",
       "<svg xmlns=\"http://www.w3.org/2000/svg\" height=\"24px\"viewBox=\"0 0 24 24\"\n",
       "     width=\"24px\">\n",
       "    <g>\n",
       "        <path d=\"M19 3H5c-1.1 0-2 .9-2 2v14c0 1.1.9 2 2 2h14c1.1 0 2-.9 2-2V5c0-1.1-.9-2-2-2zM9 17H7v-7h2v7zm4 0h-2V7h2v10zm4 0h-2v-4h2v4z\"/>\n",
       "    </g>\n",
       "</svg>\n",
       "  </button>\n",
       "\n",
       "<style>\n",
       "  .colab-df-quickchart {\n",
       "    background-color: #E8F0FE;\n",
       "    border: none;\n",
       "    border-radius: 50%;\n",
       "    cursor: pointer;\n",
       "    display: none;\n",
       "    fill: #1967D2;\n",
       "    height: 32px;\n",
       "    padding: 0 0 0 0;\n",
       "    width: 32px;\n",
       "  }\n",
       "\n",
       "  .colab-df-quickchart:hover {\n",
       "    background-color: #E2EBFA;\n",
       "    box-shadow: 0px 1px 2px rgba(60, 64, 67, 0.3), 0px 1px 3px 1px rgba(60, 64, 67, 0.15);\n",
       "    fill: #174EA6;\n",
       "  }\n",
       "\n",
       "  [theme=dark] .colab-df-quickchart {\n",
       "    background-color: #3B4455;\n",
       "    fill: #D2E3FC;\n",
       "  }\n",
       "\n",
       "  [theme=dark] .colab-df-quickchart:hover {\n",
       "    background-color: #434B5C;\n",
       "    box-shadow: 0px 1px 3px 1px rgba(0, 0, 0, 0.15);\n",
       "    filter: drop-shadow(0px 1px 2px rgba(0, 0, 0, 0.3));\n",
       "    fill: #FFFFFF;\n",
       "  }\n",
       "</style>\n",
       "\n",
       "  <script>\n",
       "    async function quickchart(key) {\n",
       "      const charts = await google.colab.kernel.invokeFunction(\n",
       "          'suggestCharts', [key], {});\n",
       "    }\n",
       "    (() => {\n",
       "      let quickchartButtonEl =\n",
       "        document.querySelector('#df-5d383dca-d463-4da4-a18c-d8e314d11b89 button');\n",
       "      quickchartButtonEl.style.display =\n",
       "        google.colab.kernel.accessAllowed ? 'block' : 'none';\n",
       "    })();\n",
       "  </script>\n",
       "</div>\n",
       "    </div>\n",
       "  </div>\n"
      ],
      "text/plain": [
       "   id gender     location  age    occupation preferred_category\n",
       "0   1      M     New York   29  Software Eng        Electronics\n",
       "1   2      F  Los Angeles   35      Musician              Music\n",
       "2   3      F        Miami   22       Student              Books\n",
       "3   4      M      Chicago   45          Chef            Kitchen\n",
       "4   5      F      Seattle   31      Designer         Home Decor"
      ]
     },
     "execution_count": 8,
     "metadata": {},
     "output_type": "execute_result"
    }
   ],
   "source": [
    "# Users Data\n",
    "users = pd.read_csv('users.csv')\n",
    "users.head()"
   ]
  },
  {
   "cell_type": "code",
   "execution_count": 9,
   "metadata": {
    "colab": {
     "base_uri": "https://localhost:8080/",
     "height": 206
    },
    "id": "dt6Dc1GrvNlI",
    "outputId": "3148a59b-d271-4ec7-87e4-e28c1b2e3f48"
   },
   "outputs": [
    {
     "data": {
      "text/html": [
       "\n",
       "  <div id=\"df-9a0436f0-6aa2-4f24-8abb-0e6a0eb39ab8\" class=\"colab-df-container\">\n",
       "    <div>\n",
       "<style scoped>\n",
       "    .dataframe tbody tr th:only-of-type {\n",
       "        vertical-align: middle;\n",
       "    }\n",
       "\n",
       "    .dataframe tbody tr th {\n",
       "        vertical-align: top;\n",
       "    }\n",
       "\n",
       "    .dataframe thead th {\n",
       "        text-align: right;\n",
       "    }\n",
       "</style>\n",
       "<table border=\"1\" class=\"dataframe\">\n",
       "  <thead>\n",
       "    <tr style=\"text-align: right;\">\n",
       "      <th></th>\n",
       "      <th>user_id</th>\n",
       "      <th>product_id</th>\n",
       "      <th>rating</th>\n",
       "    </tr>\n",
       "  </thead>\n",
       "  <tbody>\n",
       "    <tr>\n",
       "      <th>0</th>\n",
       "      <td>1</td>\n",
       "      <td>1</td>\n",
       "      <td>5</td>\n",
       "    </tr>\n",
       "    <tr>\n",
       "      <th>1</th>\n",
       "      <td>1</td>\n",
       "      <td>2</td>\n",
       "      <td>2</td>\n",
       "    </tr>\n",
       "    <tr>\n",
       "      <th>2</th>\n",
       "      <td>1</td>\n",
       "      <td>4</td>\n",
       "      <td>4</td>\n",
       "    </tr>\n",
       "    <tr>\n",
       "      <th>3</th>\n",
       "      <td>1</td>\n",
       "      <td>5</td>\n",
       "      <td>5</td>\n",
       "    </tr>\n",
       "    <tr>\n",
       "      <th>4</th>\n",
       "      <td>1</td>\n",
       "      <td>7</td>\n",
       "      <td>2</td>\n",
       "    </tr>\n",
       "  </tbody>\n",
       "</table>\n",
       "</div>\n",
       "    <div class=\"colab-df-buttons\">\n",
       "\n",
       "  <div class=\"colab-df-container\">\n",
       "    <button class=\"colab-df-convert\" onclick=\"convertToInteractive('df-9a0436f0-6aa2-4f24-8abb-0e6a0eb39ab8')\"\n",
       "            title=\"Convert this dataframe to an interactive table.\"\n",
       "            style=\"display:none;\">\n",
       "\n",
       "  <svg xmlns=\"http://www.w3.org/2000/svg\" height=\"24px\" viewBox=\"0 -960 960 960\">\n",
       "    <path d=\"M120-120v-720h720v720H120Zm60-500h600v-160H180v160Zm220 220h160v-160H400v160Zm0 220h160v-160H400v160ZM180-400h160v-160H180v160Zm440 0h160v-160H620v160ZM180-180h160v-160H180v160Zm440 0h160v-160H620v160Z\"/>\n",
       "  </svg>\n",
       "    </button>\n",
       "\n",
       "  <style>\n",
       "    .colab-df-container {\n",
       "      display:flex;\n",
       "      gap: 12px;\n",
       "    }\n",
       "\n",
       "    .colab-df-convert {\n",
       "      background-color: #E8F0FE;\n",
       "      border: none;\n",
       "      border-radius: 50%;\n",
       "      cursor: pointer;\n",
       "      display: none;\n",
       "      fill: #1967D2;\n",
       "      height: 32px;\n",
       "      padding: 0 0 0 0;\n",
       "      width: 32px;\n",
       "    }\n",
       "\n",
       "    .colab-df-convert:hover {\n",
       "      background-color: #E2EBFA;\n",
       "      box-shadow: 0px 1px 2px rgba(60, 64, 67, 0.3), 0px 1px 3px 1px rgba(60, 64, 67, 0.15);\n",
       "      fill: #174EA6;\n",
       "    }\n",
       "\n",
       "    .colab-df-buttons div {\n",
       "      margin-bottom: 4px;\n",
       "    }\n",
       "\n",
       "    [theme=dark] .colab-df-convert {\n",
       "      background-color: #3B4455;\n",
       "      fill: #D2E3FC;\n",
       "    }\n",
       "\n",
       "    [theme=dark] .colab-df-convert:hover {\n",
       "      background-color: #434B5C;\n",
       "      box-shadow: 0px 1px 3px 1px rgba(0, 0, 0, 0.15);\n",
       "      filter: drop-shadow(0px 1px 2px rgba(0, 0, 0, 0.3));\n",
       "      fill: #FFFFFF;\n",
       "    }\n",
       "  </style>\n",
       "\n",
       "    <script>\n",
       "      const buttonEl =\n",
       "        document.querySelector('#df-9a0436f0-6aa2-4f24-8abb-0e6a0eb39ab8 button.colab-df-convert');\n",
       "      buttonEl.style.display =\n",
       "        google.colab.kernel.accessAllowed ? 'block' : 'none';\n",
       "\n",
       "      async function convertToInteractive(key) {\n",
       "        const element = document.querySelector('#df-9a0436f0-6aa2-4f24-8abb-0e6a0eb39ab8');\n",
       "        const dataTable =\n",
       "          await google.colab.kernel.invokeFunction('convertToInteractive',\n",
       "                                                    [key], {});\n",
       "        if (!dataTable) return;\n",
       "\n",
       "        const docLinkHtml = 'Like what you see? Visit the ' +\n",
       "          '<a target=\"_blank\" href=https://colab.research.google.com/notebooks/data_table.ipynb>data table notebook</a>'\n",
       "          + ' to learn more about interactive tables.';\n",
       "        element.innerHTML = '';\n",
       "        dataTable['output_type'] = 'display_data';\n",
       "        await google.colab.output.renderOutput(dataTable, element);\n",
       "        const docLink = document.createElement('div');\n",
       "        docLink.innerHTML = docLinkHtml;\n",
       "        element.appendChild(docLink);\n",
       "      }\n",
       "    </script>\n",
       "  </div>\n",
       "\n",
       "\n",
       "<div id=\"df-4fb6da0b-1785-4c94-badb-a88897265c06\">\n",
       "  <button class=\"colab-df-quickchart\" onclick=\"quickchart('df-4fb6da0b-1785-4c94-badb-a88897265c06')\"\n",
       "            title=\"Suggest charts.\"\n",
       "            style=\"display:none;\">\n",
       "\n",
       "<svg xmlns=\"http://www.w3.org/2000/svg\" height=\"24px\"viewBox=\"0 0 24 24\"\n",
       "     width=\"24px\">\n",
       "    <g>\n",
       "        <path d=\"M19 3H5c-1.1 0-2 .9-2 2v14c0 1.1.9 2 2 2h14c1.1 0 2-.9 2-2V5c0-1.1-.9-2-2-2zM9 17H7v-7h2v7zm4 0h-2V7h2v10zm4 0h-2v-4h2v4z\"/>\n",
       "    </g>\n",
       "</svg>\n",
       "  </button>\n",
       "\n",
       "<style>\n",
       "  .colab-df-quickchart {\n",
       "    background-color: #E8F0FE;\n",
       "    border: none;\n",
       "    border-radius: 50%;\n",
       "    cursor: pointer;\n",
       "    display: none;\n",
       "    fill: #1967D2;\n",
       "    height: 32px;\n",
       "    padding: 0 0 0 0;\n",
       "    width: 32px;\n",
       "  }\n",
       "\n",
       "  .colab-df-quickchart:hover {\n",
       "    background-color: #E2EBFA;\n",
       "    box-shadow: 0px 1px 2px rgba(60, 64, 67, 0.3), 0px 1px 3px 1px rgba(60, 64, 67, 0.15);\n",
       "    fill: #174EA6;\n",
       "  }\n",
       "\n",
       "  [theme=dark] .colab-df-quickchart {\n",
       "    background-color: #3B4455;\n",
       "    fill: #D2E3FC;\n",
       "  }\n",
       "\n",
       "  [theme=dark] .colab-df-quickchart:hover {\n",
       "    background-color: #434B5C;\n",
       "    box-shadow: 0px 1px 3px 1px rgba(0, 0, 0, 0.15);\n",
       "    filter: drop-shadow(0px 1px 2px rgba(0, 0, 0, 0.3));\n",
       "    fill: #FFFFFF;\n",
       "  }\n",
       "</style>\n",
       "\n",
       "  <script>\n",
       "    async function quickchart(key) {\n",
       "      const charts = await google.colab.kernel.invokeFunction(\n",
       "          'suggestCharts', [key], {});\n",
       "    }\n",
       "    (() => {\n",
       "      let quickchartButtonEl =\n",
       "        document.querySelector('#df-4fb6da0b-1785-4c94-badb-a88897265c06 button');\n",
       "      quickchartButtonEl.style.display =\n",
       "        google.colab.kernel.accessAllowed ? 'block' : 'none';\n",
       "    })();\n",
       "  </script>\n",
       "</div>\n",
       "    </div>\n",
       "  </div>\n"
      ],
      "text/plain": [
       "   user_id  product_id  rating\n",
       "0        1           1       5\n",
       "1        1           2       2\n",
       "2        1           4       4\n",
       "3        1           5       5\n",
       "4        1           7       2"
      ]
     },
     "execution_count": 9,
     "metadata": {},
     "output_type": "execute_result"
    }
   ],
   "source": [
    "# Interactions Data\n",
    "interactions = pd.read_csv('interactions.csv')\n",
    "interactions.head()"
   ]
  },
  {
   "cell_type": "markdown",
   "metadata": {},
   "source": [
    "### Process items data"
   ]
  },
  {
   "cell_type": "code",
   "execution_count": 10,
   "metadata": {
    "colab": {
     "base_uri": "https://localhost:8080/"
    },
    "id": "cErnDkckku9L",
    "outputId": "d08ca58e-eeb4-4357-f9c0-e82972c842b2"
   },
   "outputs": [
    {
     "name": "stdout",
     "output_type": "stream",
     "text": [
      "items data embeddings:\n",
      " tensor([[ 2.1626, -0.8523, -0.9422],\n",
      "        [-0.2020,  3.4703, -2.3967],\n",
      "        [-3.5307, -3.0231, -2.2731],\n",
      "        [ 2.8735, -0.6252, -0.6421],\n",
      "        [-1.8927,  4.8022,  1.3659],\n",
      "        [-2.9371, -1.3315, -1.9322],\n",
      "        [ 0.8515,  1.1805,  0.0867],\n",
      "        [ 1.0182, -1.3480,  2.9369],\n",
      "        [-2.4257, -1.3046,  4.0382],\n",
      "        [ 4.0824, -0.9681, -0.2415]])\n"
     ]
    }
   ],
   "source": [
    "# Data\n",
    "with open('products.json', 'r') as json_file:\n",
    "    products = json.load(json_file)\n",
    "\n",
    "# Initialize the transformer model\n",
    "model = SentenceTransformer('paraphrase-distilroberta-base-v1')\n",
    "\n",
    "# Combining product name, description, and category\n",
    "combined_texts = [f\"{prod['name']} {prod['description']} {prod['category']}\" for _, prod in products.items()]\n",
    "\n",
    "# Generate embeddings\n",
    "product_embeddings = model.encode(combined_texts, convert_to_tensor=True)\n",
    "\n",
    "# Dimensionality reduction using PCA\n",
    "pca = PCA(n_components=3)\n",
    "product_embeddings = pca.fit_transform(product_embeddings)\n",
    "\n",
    "# items_data = product_embeddings\n",
    "\n",
    "# # Convert to torch tensor\n",
    "items_data = torch.tensor(product_embeddings, dtype=torch.float32)\n",
    "\n",
    "print(\"items data embeddings:\\n\", items_data)"
   ]
  },
  {
   "cell_type": "markdown",
   "metadata": {},
   "source": [
    "### Process users data"
   ]
  },
  {
   "cell_type": "code",
   "execution_count": 11,
   "metadata": {
    "colab": {
     "base_uri": "https://localhost:8080/"
    },
    "id": "P7Xyoa4_k6Oa",
    "outputId": "f4d4395f-da3f-4932-bf4c-edaa7ae4d2d7"
   },
   "outputs": [
    {
     "name": "stdout",
     "output_type": "stream",
     "text": [
      "users data embeddings:\n",
      " tensor([[-8.2327,  7.4664, -2.8698],\n",
      "        [ 3.4268,  2.4652,  9.8292],\n",
      "        [ 8.7280,  3.4951, -5.0207],\n",
      "        [-6.3303, -6.2768,  1.0092],\n",
      "        [ 2.4082, -7.1500, -2.9480]])\n"
     ]
    }
   ],
   "source": [
    "# Load CSV data into a Pandas DataFrame\n",
    "df = pd.read_csv('users.csv')\n",
    "\n",
    "# Separate numerical and text columns\n",
    "numerical_cols = ['age']\n",
    "text_cols = ['gender', 'location', 'occupation', 'preferred_category']\n",
    "\n",
    "# Normalize numerical columns\n",
    "scaler = StandardScaler()\n",
    "numerical_data = scaler.fit_transform(df[numerical_cols])\n",
    "\n",
    "# Generate embeddings for text columns\n",
    "model = SentenceTransformer('paraphrase-MiniLM-L6-v2')\n",
    "text_dataframes = []\n",
    "\n",
    "for col in text_cols:\n",
    "    embeddings = model.encode(df[col].tolist())\n",
    "    # Convert to DataFrame\n",
    "    embeddings_df = pd.DataFrame(embeddings)\n",
    "    text_dataframes.append(embeddings_df)\n",
    "\n",
    "text_embeddings = pd.concat(text_dataframes, axis=1)\n",
    "\n",
    "# Concatenate the embeddings\n",
    "users_embeddings = pd.concat([pd.DataFrame(numerical_data), text_embeddings], axis=1).values\n",
    "\n",
    "# Dimensionality reduction using PCA\n",
    "pca = PCA(n_components=3)\n",
    "users_embeddings = pca.fit_transform(users_embeddings)\n",
    "users_data = users_embeddings\n",
    "# print(users_data)\n",
    "# Convert to torch tensor\n",
    "users_data = torch.tensor(users_embeddings, dtype=torch.float32)\n",
    "\n",
    "print(\"users data embeddings:\\n\", users_data)"
   ]
  },
  {
   "cell_type": "markdown",
   "metadata": {},
   "source": [
    "### Process interactions data"
   ]
  },
  {
   "cell_type": "code",
   "execution_count": 12,
   "metadata": {
    "colab": {
     "base_uri": "https://localhost:8080/"
    },
    "id": "TzsbgT6DlAhC",
    "outputId": "76754398-9e4a-4941-b3b9-1819fb3f2432"
   },
   "outputs": [
    {
     "name": "stdout",
     "output_type": "stream",
     "text": [
      "interaction_data:\n",
      " tensor([[ 5.,  2., -1.,  4.,  5., -1.,  2.,  5., -1., -1.],\n",
      "        [-1.,  3.,  5.,  2.,  1.,  1.,  4., -1., -1.,  2.],\n",
      "        [ 1.,  2.,  5.,  2., -1.,  1.,  2., -1., -1., -1.],\n",
      "        [-1.,  2.,  1., -1., -1.,  1., -1., -1., -1., -1.],\n",
      "        [ 1., -1., -1.,  1.,  1.,  2.,  2.,  1., -1., -1.]])\n"
     ]
    }
   ],
   "source": [
    "# Load the .csv file and generate interaction_data matrix:\n",
    "loaded_interactions = pd.read_csv('interactions.csv')\n",
    "\n",
    "interaction_data = -1 * np.ones((5, 10))  # Initializing with -1\n",
    "\n",
    "for index, row in loaded_interactions.iterrows():\n",
    "    user_idx = int(row['user_id']) - 1\n",
    "    product_idx = int(row['product_id']) - 1\n",
    "    interaction_data[user_idx][product_idx] = row['rating']\n",
    "# print(interaction_data)\n",
    "\n",
    "# Convert to torch tensor\n",
    "interaction_data = torch.tensor(interaction_data, dtype=torch.float32)\n",
    "\n",
    "print(\"interaction_data:\\n\", interaction_data)"
   ]
  },
  {
   "cell_type": "markdown",
   "metadata": {},
   "source": [
    "### Recommendation using hybrid model"
   ]
  },
  {
   "cell_type": "code",
   "execution_count": 13,
   "metadata": {
    "colab": {
     "base_uri": "https://localhost:8080/"
    },
    "id": "qssqjWNclFNQ",
    "outputId": "97bebc8b-484c-476a-f9b8-4d64a2a15392"
   },
   "outputs": [
    {
     "name": "stdout",
     "output_type": "stream",
     "text": [
      "Training:\n",
      "Epoch 0, Loss: 14.145489692687988\n",
      "Epoch 100, Loss: 0.12896539270877838\n",
      "Epoch 200, Loss: 0.0044252704828977585\n",
      "Epoch 300, Loss: 0.00042982492595911026\n",
      "Epoch 400, Loss: 4.7105178964557126e-05\n",
      "Epoch 500, Loss: 3.713901378432638e-06\n",
      "Epoch 600, Loss: 2.9000275958424027e-07\n",
      "Epoch 700, Loss: 3.298319128930416e-08\n",
      "Epoch 800, Loss: 3.9367047399707644e-09\n",
      "Epoch 900, Loss: 3.886859167856471e-10\n",
      "Recommendation scores:\n",
      " tensor([[ 5.0000,  2.0000,  2.4408,  4.0000,  5.0000,  4.0755,  2.0000,  5.0000,\n",
      "          5.0219,  3.6255],\n",
      "        [ 1.1529,  3.0000,  5.0000,  2.0000,  1.0000,  1.0000,  4.0000,  2.3320,\n",
      "          2.8729,  2.0000],\n",
      "        [ 1.0000,  2.0000,  5.0000,  2.0000, -0.3521,  1.0000,  2.0000,  1.9358,\n",
      "          2.3032,  1.3768],\n",
      "        [-0.1334,  2.0000,  1.0000,  0.2974,  2.6285,  1.0000,  0.9861,  0.0542,\n",
      "          1.2022, -0.3527],\n",
      "        [ 1.0000,  2.1818,  4.5420,  1.0000,  1.0000,  2.0000,  2.0000,  1.0000,\n",
      "          2.1623,  0.3677]], grad_fn=<AddBackward0>)\n",
      "\n",
      "ID of recommended items for each user:\n",
      " [[8 5]\n",
      " [8 7]\n",
      " [8 7]\n",
      " [4 8]\n",
      " [2 1]]\n"
     ]
    }
   ],
   "source": [
    "recommender = HybridRecommendation(users_data, items_data, interaction_data)\n",
    "print(\"Training:\")\n",
    "recommender.train()\n",
    "\n",
    "scores = recommender.predict()\n",
    "print(\"Recommendation scores:\\n\", scores)\n",
    "\n",
    "top_2_items = recommender.get_top_k_items(k=2)\n",
    "print(\"\\nID of recommended items for each user:\\n\", top_2_items.cpu().numpy())"
   ]
  },
  {
   "cell_type": "markdown",
   "metadata": {},
   "source": [
    "### Recommendation using deep learning model"
   ]
  },
  {
   "cell_type": "code",
   "execution_count": 14,
   "metadata": {
    "colab": {
     "base_uri": "https://localhost:8080/"
    },
    "id": "PguRw2BHlHlx",
    "outputId": "31e37cc4-4e2f-4920-94d9-ce0b610ec1a1"
   },
   "outputs": [
    {
     "name": "stdout",
     "output_type": "stream",
     "text": [
      "Training:\n",
      "Epoch 0, Loss: 21.365793228149414\n",
      "Epoch 100, Loss: 0.8142966032028198\n",
      "Epoch 200, Loss: 0.4298228919506073\n",
      "Epoch 300, Loss: 0.11122187227010727\n",
      "Epoch 400, Loss: 0.023746013641357422\n",
      "Epoch 500, Loss: 0.013200347311794758\n",
      "Epoch 600, Loss: 0.009376028552651405\n",
      "Epoch 700, Loss: 0.006700543221086264\n",
      "Epoch 800, Loss: 0.004597093444317579\n",
      "Epoch 900, Loss: 0.003028180683031678\n",
      "Recommendation scores:\n",
      " tensor([[ 4.9813,  1.9963, 11.2873,  4.0175,  5.0013,  7.7492,  2.0087,  4.9989,\n",
      "          4.9307,  3.9259],\n",
      "        [ 1.3779,  3.0050,  4.9914,  1.9766,  1.0058,  1.0109,  3.9945,  2.9357,\n",
      "          2.2378,  2.0259],\n",
      "        [ 1.1593,  1.9823,  5.0091,  1.8344,  1.3330,  0.9860,  2.0151,  2.5208,\n",
      "          1.1959,  1.7373],\n",
      "        [-1.7715,  2.0055,  1.0026, -1.9283,  1.0683,  1.0005,  0.7005, -0.5119,\n",
      "          2.9306, -2.4732],\n",
      "        [ 1.0118,  2.1650,  1.6358,  0.9935,  1.0031,  1.9782,  2.0183,  0.9979,\n",
      "          1.9357,  0.4662]], grad_fn=<ViewBackward0>)\n",
      "\n",
      "ID of recommended items for each user:\n",
      " [[2 5]\n",
      " [7 8]\n",
      " [7 9]\n",
      " [8 4]\n",
      " [1 8]]\n"
     ]
    }
   ],
   "source": [
    "recommender = DeepLearningRec(users_data, items_data, interaction_data)\n",
    "print(\"Training:\")\n",
    "recommender.train()\n",
    "\n",
    "scores = recommender.predict()\n",
    "print(\"Recommendation scores:\\n\", scores)\n",
    "\n",
    "top_2_items = recommender.get_top_k_items(k=2)\n",
    "print(\"\\nID of recommended items for each user:\\n\", top_2_items.cpu().numpy())"
   ]
  },
  {
   "cell_type": "markdown",
   "metadata": {},
   "source": [
    "### Recommendation using matrix factorization"
   ]
  },
  {
   "cell_type": "code",
   "execution_count": 15,
   "metadata": {
    "colab": {
     "base_uri": "https://localhost:8080/"
    },
    "id": "YwPQypTGmS-D",
    "outputId": "6ff9fbba-07ff-4141-ddef-904840d4db84"
   },
   "outputs": [
    {
     "name": "stdout",
     "output_type": "stream",
     "text": [
      "Training:\n",
      "Epoch 0, Loss: 11.612005233764648\n",
      "Epoch 100, Loss: 5.90090274810791\n",
      "Epoch 200, Loss: 4.268473148345947\n",
      "Epoch 300, Loss: 3.240995168685913\n",
      "Epoch 400, Loss: 2.1425223350524902\n",
      "Epoch 500, Loss: 1.0853207111358643\n",
      "Epoch 600, Loss: 0.49128007888793945\n",
      "Epoch 700, Loss: 0.2604113519191742\n",
      "Epoch 800, Loss: 0.1662200540304184\n",
      "Epoch 900, Loss: 0.12038252502679825\n",
      "Recommendation scores:\n",
      " tensor([[ 4.8909,  2.0107,  6.2174,  3.8992,  4.7118,  2.5147,  2.2380,  4.9651,\n",
      "         -1.3599,  0.2591],\n",
      "        [ 0.5559,  3.0965,  5.1074,  2.0605,  1.2198,  1.2182,  3.5212,  2.6061,\n",
      "         -0.4018,  2.0440],\n",
      "        [ 1.5683,  2.0371,  4.6845,  2.1413,  1.2432,  0.9474,  2.1952,  2.7523,\n",
      "         -0.6178,  1.2330],\n",
      "        [-0.1665,  1.7204,  1.0988,  0.6021,  1.8182,  1.3019,  2.2418,  0.6673,\n",
      "          0.0518,  0.8030],\n",
      "        [ 0.6673,  1.4354,  1.9185,  1.0509,  1.6894,  1.1203,  1.7670,  1.2872,\n",
      "         -0.2064,  0.6304]], grad_fn=<MmBackward0>)\n",
      "\n",
      "ID of recommended items for each user:\n",
      " [[2 5]\n",
      " [7 0]\n",
      " [7 4]\n",
      " [6 4]\n",
      " [2 1]]\n"
     ]
    }
   ],
   "source": [
    "recommender = MatrixFactorization(interaction_data)\n",
    "print(\"Training:\")\n",
    "recommender.train()\n",
    "\n",
    "scores = recommender.predict()\n",
    "print(\"Recommendation scores:\\n\", scores)\n",
    "\n",
    "top_2_items = recommender.get_top_k_items(k=2)\n",
    "print(\"\\nID of recommended items for each user:\\n\", top_2_items.cpu().numpy())"
   ]
  },
  {
   "cell_type": "markdown",
   "metadata": {},
   "source": [
    "### Content-based recommendation - base model"
   ]
  },
  {
   "cell_type": "code",
   "execution_count": 16,
   "metadata": {
    "colab": {
     "base_uri": "https://localhost:8080/"
    },
    "id": "tocw7_AMmVj2",
    "outputId": "a715e6a6-7586-4b2d-e7c1-dbe7eddc9de4"
   },
   "outputs": [
    {
     "name": "stdout",
     "output_type": "stream",
     "text": [
      "Recommendation scores:\n",
      " [[-0.67773456  0.73958567  0.17048441 -0.71621767  0.75326697  0.41576947\n",
      "   0.16993964 -0.67771697 -0.12356533 -0.80297084]\n",
      " [-0.25819972 -0.41060698 -0.76486256 -0.02905022  0.37299936 -0.82004852\n",
      "   0.39412501  0.827658    0.6396758   0.14482857]\n",
      " [ 0.75146094  0.56348836 -0.43162358  0.78719069 -0.09735894 -0.37935002\n",
      "   0.67607684 -0.40427074 -0.88273747  0.69880679]\n",
      " [-0.35020191 -0.63014362  0.79596883 -0.49901565 -0.40449072  0.67787184\n",
      "  -0.96960987  0.21246008  0.58390732 -0.47266964]\n",
      " [ 0.70329417 -0.4686847   0.54318618  0.54654924 -0.99205672  0.3476067\n",
      "  -0.60848451  0.04154644 -0.23528554  0.5036761 ]]\n",
      "\n",
      "ID of recommended items for each user:\n",
      " [[1 4]\n",
      " [8 7]\n",
      " [0 3]\n",
      " [5 2]\n",
      " [3 0]]\n"
     ]
    }
   ],
   "source": [
    "recommender = SimpleContentBasedRec(users_data, items_data)\n",
    "scores = recommender.recommend()\n",
    "\n",
    "print(\"Recommendation scores:\\n\", scores)\n",
    "\n",
    "top_2_items = scores.argsort(axis=1)[:, -2:]\n",
    "\n",
    "print(\"\\nID of recommended items for each user:\\n\", top_2_items)"
   ]
  },
  {
   "cell_type": "markdown",
   "metadata": {},
   "source": [
    "### Content-based Recommendation - BERT model"
   ]
  },
  {
   "cell_type": "code",
   "execution_count": 17,
   "metadata": {
    "colab": {
     "base_uri": "https://localhost:8080/"
    },
    "id": "UF7ivcOXmXl5",
    "outputId": "e24f86fb-4b79-4f75-e780-cb2c4d11b5b7"
   },
   "outputs": [
    {
     "name": "stdout",
     "output_type": "stream",
     "text": [
      "Recommendation scores:\n",
      " tensor([[0.8089, 0.8369, 0.7205, 0.8276, 0.7692, 0.7426, 0.8126, 0.6983, 0.7796,\n",
      "         0.6849],\n",
      "        [0.7890, 0.8499, 0.7418, 0.8069, 0.8115, 0.8079, 0.8682, 0.6770, 0.7854,\n",
      "         0.6931],\n",
      "        [0.8022, 0.8667, 0.7390, 0.8159, 0.7963, 0.8248, 0.8558, 0.6596, 0.7821,\n",
      "         0.6759],\n",
      "        [0.7744, 0.8251, 0.7120, 0.7797, 0.7815, 0.7595, 0.8187, 0.6405, 0.7972,\n",
      "         0.6290],\n",
      "        [0.7762, 0.8500, 0.7312, 0.7980, 0.8180, 0.7827, 0.8281, 0.6660, 0.8255,\n",
      "         0.6763]])\n",
      "\n",
      "ID of recommended items for each user:\n",
      " [[3 1]\n",
      " [1 6]\n",
      " [6 1]\n",
      " [6 1]\n",
      " [6 1]]\n"
     ]
    }
   ],
   "source": [
    "with open('products.json', 'r') as json_file:\n",
    "    items_data = json.load(json_file)\n",
    "users_data = pd.read_csv(\"users.csv\")\n",
    "\n",
    "# Convert products and users_data to list of concatenated strings\n",
    "products_data = [f\"{product['name']} {product['description']} {product['category']}\" for product in items_data.values()]\n",
    "users_strings = users_data.apply(lambda row: f\"{row['gender']} {row['location']} {row['age']} {row['occupation']} {row['preferred_category']}\", axis=1).tolist()\n",
    "\n",
    "recommender = ContentBasedRecommendation(users_strings, products_data)\n",
    "scores = recommender.recommend()\n",
    "\n",
    "print(\"Recommendation scores:\\n\", scores)\n",
    "\n",
    "top_2_items = scores.argsort(axis=1)[:, -2:]\n",
    "\n",
    "print(\"\\nID of recommended items for each user:\\n\", top_2_items.cpu().numpy())"
   ]
  },
  {
   "cell_type": "code",
   "execution_count": 17,
   "metadata": {
    "id": "FbV213NXwJuq"
   },
   "outputs": [],
   "source": []
  }
 ],
 "metadata": {
  "colab": {
   "provenance": []
  },
  "kernelspec": {
   "display_name": "Python 3 (ipykernel)",
   "language": "python",
   "name": "python3"
  },
  "language_info": {
   "codemirror_mode": {
    "name": "ipython",
    "version": 3
   },
   "file_extension": ".py",
   "mimetype": "text/x-python",
   "name": "python",
   "nbconvert_exporter": "python",
   "pygments_lexer": "ipython3",
   "version": "3.9.13"
  }
 },
 "nbformat": 4,
 "nbformat_minor": 1
}
